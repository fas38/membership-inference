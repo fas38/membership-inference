{
  "nbformat": 4,
  "nbformat_minor": 0,
  "metadata": {
    "colab": {
      "provenance": [],
      "gpuType": "T4"
    },
    "kernelspec": {
      "name": "python3",
      "display_name": "Python 3"
    },
    "language_info": {
      "name": "python"
    },
    "accelerator": "GPU"
  },
  "cells": [
    {
      "cell_type": "code",
      "execution_count": 1,
      "metadata": {
        "id": "NUkPg0Dx-_ew"
      },
      "outputs": [],
      "source": [
        "import torch\n",
        "from torch.utils.data import DataLoader, random_split, TensorDataset\n",
        "import pickle\n",
        "import torchvision\n",
        "import torch.nn as nn\n",
        "import torch.optim as optim\n",
        "from torchvision.models import resnet34\n",
        "from torchvision import transforms\n",
        "import numpy as np\n",
        "from sklearn.model_selection import train_test_split, GridSearchCV\n",
        "from sklearn.ensemble import RandomForestClassifier, GradientBoostingClassifier, AdaBoostClassifier\n",
        "import xgboost as xgb\n",
        "from sklearn.metrics import accuracy_score\n",
        "import random\n",
        "\n",
        "# set random seed\n",
        "seed = 42\n",
        "random.seed(seed)\n",
        "np.random.seed(seed)\n",
        "torch.manual_seed(seed)\n",
        "torch.cuda.manual_seed(seed)\n",
        "torch.cuda.manual_seed_all(seed)\n",
        "torch.backends.cudnn.deterministic = True\n",
        "torch.backends.cudnn.benchmark = False"
      ]
    },
    {
      "cell_type": "code",
      "source": [
        "from google.colab import drive\n",
        "drive.mount('/content/drive')"
      ],
      "metadata": {
        "colab": {
          "base_uri": "https://localhost:8080/"
        },
        "id": "Ye7G-npX__yB",
        "outputId": "57d62530-ff60-40e5-f26a-74aed8bcac4c"
      },
      "execution_count": 2,
      "outputs": [
        {
          "output_type": "stream",
          "name": "stdout",
          "text": [
            "Mounted at /content/drive\n"
          ]
        }
      ]
    },
    {
      "cell_type": "code",
      "source": [
        "DATA_PATH = '/content/drive/My Drive/Colab Notebooks/attack/pickle/tinyimagenet/resnet34/shadow.p'\n",
        "\n",
        "device=torch.device(\"cuda:0\" if torch.cuda.is_available() else \"cpu\")\n",
        "print(device)\n",
        "\n",
        "with open(DATA_PATH, \"rb\") as f:\n",
        "    dataset = pickle.load(f)\n",
        "print(type(dataset), len(dataset))\n",
        "\n",
        "\n",
        "# split the dataset\n",
        "train_size = int(0.8 * len(dataset))\n",
        "test_size = len(dataset) - train_size\n",
        "train_dataset, test_dataset = random_split(dataset, [train_size, test_size])\n",
        "\n",
        "# create dataloaders\n",
        "train_loader = DataLoader(train_dataset, batch_size=64, shuffle=True, num_workers=2)\n",
        "test_loader = DataLoader(test_dataset, batch_size=64, shuffle=False, num_workers=2)"
      ],
      "metadata": {
        "colab": {
          "base_uri": "https://localhost:8080/"
        },
        "id": "46KTyQoyAf-H",
        "outputId": "7cea9da7-7fb9-4bfb-f81e-f6768a0cdcdd"
      },
      "execution_count": 3,
      "outputs": [
        {
          "output_type": "stream",
          "name": "stdout",
          "text": [
            "cuda:0\n",
            "<class 'list'> 50000\n"
          ]
        }
      ]
    },
    {
      "cell_type": "markdown",
      "source": [
        "# shadow model"
      ],
      "metadata": {
        "id": "nMoRjJvFBKUQ"
      }
    },
    {
      "cell_type": "code",
      "source": [
        "# model parameters\n",
        "n_classes = 200\n",
        "n_epochs = 40\n",
        "batch_size = 64\n",
        "learning_rate = 0.001\n",
        "weight_decay = 1e-4  # parameter for L2 regularization\n",
        "\n",
        "# load target model for shadow model\n",
        "shadow_model = resnet34(num_classes=200).to(device)\n",
        "state_dict = torch.load('/content/drive/My Drive/Colab Notebooks/attack/models/resnet34_tinyimagenet.pth', map_location=device)\n",
        "shadow_model.load_state_dict(state_dict['net'])\n",
        "criterion = nn.CrossEntropyLoss()\n",
        "optimizer = optim.Adam(shadow_model.parameters(), lr=learning_rate, weight_decay=weight_decay)\n",
        "scheduler = optim.lr_scheduler.StepLR(optimizer, step_size=10, gamma=0.1)\n",
        "\n",
        "# model training\n",
        "shadow_model.train()\n",
        "for epoch in range(n_epochs):\n",
        "    running_loss = 0.0\n",
        "    for inputs, labels in train_loader:\n",
        "        inputs, labels = inputs.to(device), labels.to(device)\n",
        "\n",
        "        optimizer.zero_grad()\n",
        "        outputs = shadow_model(inputs)\n",
        "        loss = criterion(outputs, labels)\n",
        "        loss.backward()\n",
        "        optimizer.step()\n",
        "\n",
        "        running_loss += loss.item()\n",
        "    scheduler.step()\n",
        "\n",
        "    print(f\"Epoch {epoch+1}/{n_epochs}, Loss: {running_loss/len(train_loader)}\")\n",
        "    # save the model after each 5 epochs\n",
        "    if (epoch+1) % 5 == 0:\n",
        "        torch.save(shadow_model.state_dict(), f\"/content/drive/My Drive/Colab Notebooks/attack/my_models/tinyimagenet_resnet/shadow_model_epoch_{epoch+1}.pt\")"
      ],
      "metadata": {
        "id": "lFOcEBMABRLL",
        "colab": {
          "base_uri": "https://localhost:8080/"
        },
        "outputId": "477de0f8-6297-47be-ff26-6ba748dc4a0b"
      },
      "execution_count": null,
      "outputs": [
        {
          "output_type": "stream",
          "name": "stdout",
          "text": [
            "Epoch 1/40, Loss: 3.8695884323120118\n",
            "Epoch 2/40, Loss: 3.2373982093811033\n",
            "Epoch 3/40, Loss: 2.7816393627166747\n",
            "Epoch 4/40, Loss: 2.293316515159607\n",
            "Epoch 5/40, Loss: 1.761449604511261\n",
            "Epoch 6/40, Loss: 1.2288123917579652\n",
            "Epoch 7/40, Loss: 0.8173454327106476\n",
            "Epoch 8/40, Loss: 0.5652892118692399\n",
            "Epoch 9/40, Loss: 0.43818574702739715\n",
            "Epoch 10/40, Loss: 0.38657752920389177\n",
            "Epoch 11/40, Loss: 0.15166444813013077\n",
            "Epoch 12/40, Loss: 0.04426120265126229\n",
            "Epoch 13/40, Loss: 0.02596762011349201\n",
            "Epoch 14/40, Loss: 0.018214115408807994\n",
            "Epoch 15/40, Loss: 0.012986440163105727\n",
            "Epoch 16/40, Loss: 0.010029142214730382\n",
            "Epoch 17/40, Loss: 0.00824177646934986\n",
            "Epoch 18/40, Loss: 0.006954689632356167\n",
            "Epoch 19/40, Loss: 0.006238756485842168\n",
            "Epoch 20/40, Loss: 0.006406092872843146\n",
            "Epoch 21/40, Loss: 0.004803804163075983\n",
            "Epoch 22/40, Loss: 0.00405293404571712\n",
            "Epoch 23/40, Loss: 0.0037582494378089904\n",
            "Epoch 24/40, Loss: 0.003455909496359527\n",
            "Epoch 25/40, Loss: 0.0033639930360019206\n",
            "Epoch 26/40, Loss: 0.003134298592247069\n",
            "Epoch 27/40, Loss: 0.0031820719258859754\n",
            "Epoch 28/40, Loss: 0.003034914390929043\n",
            "Epoch 29/40, Loss: 0.0029395001463592054\n",
            "Epoch 30/40, Loss: 0.0029531200130470097\n",
            "Epoch 31/40, Loss: 0.002735375236533582\n",
            "Epoch 32/40, Loss: 0.0027141608292236925\n",
            "Epoch 33/40, Loss: 0.002640678735822439\n",
            "Epoch 34/40, Loss: 0.0027211259255185724\n",
            "Epoch 35/40, Loss: 0.0026127219401299953\n",
            "Epoch 36/40, Loss: 0.00266811437997967\n",
            "Epoch 37/40, Loss: 0.0026703863204456868\n",
            "Epoch 38/40, Loss: 0.0026268062176182864\n",
            "Epoch 39/40, Loss: 0.002620515173394233\n",
            "Epoch 40/40, Loss: 0.0026035744621418417\n"
          ]
        }
      ]
    },
    {
      "cell_type": "code",
      "source": [
        "# load trained shadow model\n",
        "n_classes = 200\n",
        "criterion = nn.CrossEntropyLoss()\n",
        "\n",
        "shadow_model = resnet34(num_classes=n_classes).to(device)\n",
        "shadow_model.load_state_dict(torch.load(\"/content/drive/My Drive/Colab Notebooks/attack/my_models/tinyimagenet_resnet/shadow_model_epoch_40.pt\"))"
      ],
      "metadata": {
        "colab": {
          "base_uri": "https://localhost:8080/"
        },
        "id": "3Ggb_wppH6eg",
        "outputId": "36956dfe-7397-43d8-ef62-ddb6c508b06f"
      },
      "execution_count": 6,
      "outputs": [
        {
          "output_type": "execute_result",
          "data": {
            "text/plain": [
              "<All keys matched successfully>"
            ]
          },
          "metadata": {},
          "execution_count": 6
        }
      ]
    },
    {
      "cell_type": "code",
      "source": [
        "# model evaluation\n",
        "test_loss = 0.0\n",
        "correct = 0\n",
        "total = 0\n",
        "shadow_model.eval()\n",
        "with torch.no_grad():\n",
        "    for inputs, labels in test_loader:\n",
        "        inputs, labels = inputs.to(device), labels.to(device)\n",
        "        outputs = shadow_model(inputs)\n",
        "        loss = criterion(outputs, labels)\n",
        "        test_loss += loss.item()\n",
        "        _, predicted = torch.max(outputs.data, 1) # get the class index\n",
        "        total += labels.size(0) # total samples\n",
        "        correct += (predicted == labels).sum().item() # correctly predicted samples\n",
        "\n",
        "print(f'Test Loss: {test_loss/len(test_loader)}, Accuracy: {100 * correct / total}%')"
      ],
      "metadata": {
        "id": "donDyB3NBXXc",
        "colab": {
          "base_uri": "https://localhost:8080/"
        },
        "outputId": "58c46979-0f68-41f4-e32d-784dc860b2e8"
      },
      "execution_count": 7,
      "outputs": [
        {
          "output_type": "stream",
          "name": "stdout",
          "text": [
            "Test Loss: 4.796599676654597, Accuracy: 25.11%\n"
          ]
        }
      ]
    },
    {
      "cell_type": "markdown",
      "source": [
        "# Attack Model Training"
      ],
      "metadata": {
        "id": "RTPyZ7PgBaWR"
      }
    },
    {
      "cell_type": "code",
      "source": [
        "# method for generating attack dataset for given model and dataset\n",
        "def generate_attack_data(model, data_loader, label):\n",
        "    attack_data = []\n",
        "    model.eval()\n",
        "    with torch.no_grad():\n",
        "        for inputs, labels in data_loader:\n",
        "            inputs, labels = inputs.to(device), labels.to(device)\n",
        "            outputs = model(inputs)\n",
        "            probabilities = nn.functional.softmax(outputs, dim=1)\n",
        "            for prob in probabilities:\n",
        "                attack_data.append((prob.cpu().numpy(), label))\n",
        "    return attack_data\n",
        "\n",
        "# generate attack data\n",
        "member_data = generate_attack_data(shadow_model, train_loader, 1) # member label as 1\n",
        "non_member_data = generate_attack_data(shadow_model, test_loader, 0) # non-member label as 0\n",
        "attack_data = member_data + non_member_data\n",
        "\n",
        "# prepare the data for training attack model\n",
        "np.random.shuffle(attack_data)\n",
        "X = np.array([x[0] for x in attack_data])\n",
        "y = np.array([x[1] for x in attack_data])\n",
        "X_train, X_test, y_train, y_test = train_test_split(X, y, test_size=0.2, random_state=seed)"
      ],
      "metadata": {
        "id": "4_57jxSjBboS"
      },
      "execution_count": 8,
      "outputs": []
    },
    {
      "cell_type": "code",
      "source": [
        "# train attack model\n",
        "\n",
        "# attack model class\n",
        "class AttackModel(nn.Module):\n",
        "    def __init__(self):\n",
        "        super(AttackModel, self).__init__()\n",
        "        self.fc1 = nn.Linear(200, 512)\n",
        "        self.fc2 = nn.Linear(512, 256)\n",
        "        self.fc3 = nn.Linear(256, 64)\n",
        "        self.fc4 = nn.Linear(64, 1)\n",
        "        self.dropout = nn.Dropout(0.2)\n",
        "\n",
        "    def forward(self, x):\n",
        "        x = self.dropout(nn.functional.relu(self.fc1(x)))\n",
        "        x = self.dropout(nn.functional.relu(self.fc2(x)))\n",
        "        x = self.dropout(nn.functional.relu(self.fc3(x)))\n",
        "        x = nn.functional.sigmoid(self.fc4(x))\n",
        "        return x\n",
        "\n",
        "# attack model instantiation\n",
        "attack_model_nn = AttackModel().to(device)\n",
        "criterion = nn.BCELoss()\n",
        "optimizer = optim.Adam(attack_model_nn.parameters(), lr=0.001)\n",
        "\n",
        "# prepare the data for the attack model\n",
        "X_train_tensor = torch.tensor(X_train, dtype=torch.float32).to(device)\n",
        "y_train_tensor = torch.tensor(y_train, dtype=torch.float32).to(device)\n",
        "X_test_tensor = torch.tensor(X_test, dtype=torch.float32).to(device)\n",
        "y_test_tensor = torch.tensor(y_test, dtype=torch.float32).to(device)\n",
        "train_dataset_attack = TensorDataset(X_train_tensor, y_train_tensor)\n",
        "train_loader_attack = DataLoader(train_dataset_attack, batch_size=64, shuffle=True)\n",
        "\n",
        "# training\n",
        "for epoch in range(10):\n",
        "    attack_model_nn.train()\n",
        "    running_loss = 0.0\n",
        "    for inputs, labels in train_loader_attack:\n",
        "        optimizer.zero_grad()\n",
        "        outputs = attack_model_nn(inputs)\n",
        "        loss = criterion(outputs, labels.view(-1, 1))\n",
        "        loss.backward()\n",
        "        optimizer.step()\n",
        "        running_loss += loss.item()\n",
        "\n",
        "    running_loss /= len(train_loader_attack)\n",
        "\n",
        "    print(f\"Epoch {epoch+1}/5000, Loss: {running_loss}\")\n",
        "\n",
        "# evaluate the attack model on the test data\n",
        "attack_model_nn.eval()\n",
        "with torch.no_grad():\n",
        "    outputs = attack_model_nn(X_test_tensor)\n",
        "    y_pred = outputs.round().view(-1).cpu().numpy()\n",
        "    accuracy = accuracy_score(y_test, y_pred)\n",
        "    print(f\"Attack Model Accuracy: {accuracy}\")\n"
      ],
      "metadata": {
        "colab": {
          "base_uri": "https://localhost:8080/"
        },
        "id": "89ql2ETJK7Xb",
        "outputId": "593099a7-a139-44df-b464-ea0f69f6d1bf"
      },
      "execution_count": null,
      "outputs": [
        {
          "output_type": "stream",
          "name": "stdout",
          "text": [
            "Epoch 1/5000, Loss: 0.26058964723348615\n",
            "Epoch 2/5000, Loss: 0.16954686414003373\n",
            "Epoch 3/5000, Loss: 0.15395156400501728\n",
            "Epoch 4/5000, Loss: 0.14564996304810046\n",
            "Epoch 5/5000, Loss: 0.1391756833344698\n",
            "Epoch 6/5000, Loss: 0.13553759976625443\n",
            "Epoch 7/5000, Loss: 0.13248749970793725\n",
            "Epoch 8/5000, Loss: 0.12837615408599376\n",
            "Epoch 9/5000, Loss: 0.12509877087771892\n",
            "Epoch 10/5000, Loss: 0.12337676727473736\n",
            "Attack Model Accuracy: 0.9672\n"
          ]
        }
      ]
    },
    {
      "cell_type": "markdown",
      "source": [
        "# Target Model"
      ],
      "metadata": {
        "id": "ZwT9QeJ1Bl_O"
      }
    },
    {
      "cell_type": "code",
      "source": [
        "# load the target model\n",
        "MODEL_PATH = '/content/drive/My Drive/Colab Notebooks/attack/models/resnet34_tinyimagenet.pth'\n",
        "\n",
        "device=torch.device(\"cuda:0\" if torch.cuda.is_available() else \"cpu\")\n",
        "\n",
        "target_model = resnet34(num_classes=200).to(device)\n",
        "\n",
        "state_dict = torch.load(MODEL_PATH, map_location=device)\n",
        "target_model.load_state_dict(state_dict['net'])\n",
        "\n",
        "print(target_model)"
      ],
      "metadata": {
        "id": "dyd3qTg5Bm2j",
        "colab": {
          "base_uri": "https://localhost:8080/"
        },
        "outputId": "3c59f1b4-8461-4b3e-e0d0-d8da10011584"
      },
      "execution_count": 10,
      "outputs": [
        {
          "output_type": "stream",
          "name": "stdout",
          "text": [
            "ResNet(\n",
            "  (conv1): Conv2d(3, 64, kernel_size=(7, 7), stride=(2, 2), padding=(3, 3), bias=False)\n",
            "  (bn1): BatchNorm2d(64, eps=1e-05, momentum=0.1, affine=True, track_running_stats=True)\n",
            "  (relu): ReLU(inplace=True)\n",
            "  (maxpool): MaxPool2d(kernel_size=3, stride=2, padding=1, dilation=1, ceil_mode=False)\n",
            "  (layer1): Sequential(\n",
            "    (0): BasicBlock(\n",
            "      (conv1): Conv2d(64, 64, kernel_size=(3, 3), stride=(1, 1), padding=(1, 1), bias=False)\n",
            "      (bn1): BatchNorm2d(64, eps=1e-05, momentum=0.1, affine=True, track_running_stats=True)\n",
            "      (relu): ReLU(inplace=True)\n",
            "      (conv2): Conv2d(64, 64, kernel_size=(3, 3), stride=(1, 1), padding=(1, 1), bias=False)\n",
            "      (bn2): BatchNorm2d(64, eps=1e-05, momentum=0.1, affine=True, track_running_stats=True)\n",
            "    )\n",
            "    (1): BasicBlock(\n",
            "      (conv1): Conv2d(64, 64, kernel_size=(3, 3), stride=(1, 1), padding=(1, 1), bias=False)\n",
            "      (bn1): BatchNorm2d(64, eps=1e-05, momentum=0.1, affine=True, track_running_stats=True)\n",
            "      (relu): ReLU(inplace=True)\n",
            "      (conv2): Conv2d(64, 64, kernel_size=(3, 3), stride=(1, 1), padding=(1, 1), bias=False)\n",
            "      (bn2): BatchNorm2d(64, eps=1e-05, momentum=0.1, affine=True, track_running_stats=True)\n",
            "    )\n",
            "    (2): BasicBlock(\n",
            "      (conv1): Conv2d(64, 64, kernel_size=(3, 3), stride=(1, 1), padding=(1, 1), bias=False)\n",
            "      (bn1): BatchNorm2d(64, eps=1e-05, momentum=0.1, affine=True, track_running_stats=True)\n",
            "      (relu): ReLU(inplace=True)\n",
            "      (conv2): Conv2d(64, 64, kernel_size=(3, 3), stride=(1, 1), padding=(1, 1), bias=False)\n",
            "      (bn2): BatchNorm2d(64, eps=1e-05, momentum=0.1, affine=True, track_running_stats=True)\n",
            "    )\n",
            "  )\n",
            "  (layer2): Sequential(\n",
            "    (0): BasicBlock(\n",
            "      (conv1): Conv2d(64, 128, kernel_size=(3, 3), stride=(2, 2), padding=(1, 1), bias=False)\n",
            "      (bn1): BatchNorm2d(128, eps=1e-05, momentum=0.1, affine=True, track_running_stats=True)\n",
            "      (relu): ReLU(inplace=True)\n",
            "      (conv2): Conv2d(128, 128, kernel_size=(3, 3), stride=(1, 1), padding=(1, 1), bias=False)\n",
            "      (bn2): BatchNorm2d(128, eps=1e-05, momentum=0.1, affine=True, track_running_stats=True)\n",
            "      (downsample): Sequential(\n",
            "        (0): Conv2d(64, 128, kernel_size=(1, 1), stride=(2, 2), bias=False)\n",
            "        (1): BatchNorm2d(128, eps=1e-05, momentum=0.1, affine=True, track_running_stats=True)\n",
            "      )\n",
            "    )\n",
            "    (1): BasicBlock(\n",
            "      (conv1): Conv2d(128, 128, kernel_size=(3, 3), stride=(1, 1), padding=(1, 1), bias=False)\n",
            "      (bn1): BatchNorm2d(128, eps=1e-05, momentum=0.1, affine=True, track_running_stats=True)\n",
            "      (relu): ReLU(inplace=True)\n",
            "      (conv2): Conv2d(128, 128, kernel_size=(3, 3), stride=(1, 1), padding=(1, 1), bias=False)\n",
            "      (bn2): BatchNorm2d(128, eps=1e-05, momentum=0.1, affine=True, track_running_stats=True)\n",
            "    )\n",
            "    (2): BasicBlock(\n",
            "      (conv1): Conv2d(128, 128, kernel_size=(3, 3), stride=(1, 1), padding=(1, 1), bias=False)\n",
            "      (bn1): BatchNorm2d(128, eps=1e-05, momentum=0.1, affine=True, track_running_stats=True)\n",
            "      (relu): ReLU(inplace=True)\n",
            "      (conv2): Conv2d(128, 128, kernel_size=(3, 3), stride=(1, 1), padding=(1, 1), bias=False)\n",
            "      (bn2): BatchNorm2d(128, eps=1e-05, momentum=0.1, affine=True, track_running_stats=True)\n",
            "    )\n",
            "    (3): BasicBlock(\n",
            "      (conv1): Conv2d(128, 128, kernel_size=(3, 3), stride=(1, 1), padding=(1, 1), bias=False)\n",
            "      (bn1): BatchNorm2d(128, eps=1e-05, momentum=0.1, affine=True, track_running_stats=True)\n",
            "      (relu): ReLU(inplace=True)\n",
            "      (conv2): Conv2d(128, 128, kernel_size=(3, 3), stride=(1, 1), padding=(1, 1), bias=False)\n",
            "      (bn2): BatchNorm2d(128, eps=1e-05, momentum=0.1, affine=True, track_running_stats=True)\n",
            "    )\n",
            "  )\n",
            "  (layer3): Sequential(\n",
            "    (0): BasicBlock(\n",
            "      (conv1): Conv2d(128, 256, kernel_size=(3, 3), stride=(2, 2), padding=(1, 1), bias=False)\n",
            "      (bn1): BatchNorm2d(256, eps=1e-05, momentum=0.1, affine=True, track_running_stats=True)\n",
            "      (relu): ReLU(inplace=True)\n",
            "      (conv2): Conv2d(256, 256, kernel_size=(3, 3), stride=(1, 1), padding=(1, 1), bias=False)\n",
            "      (bn2): BatchNorm2d(256, eps=1e-05, momentum=0.1, affine=True, track_running_stats=True)\n",
            "      (downsample): Sequential(\n",
            "        (0): Conv2d(128, 256, kernel_size=(1, 1), stride=(2, 2), bias=False)\n",
            "        (1): BatchNorm2d(256, eps=1e-05, momentum=0.1, affine=True, track_running_stats=True)\n",
            "      )\n",
            "    )\n",
            "    (1): BasicBlock(\n",
            "      (conv1): Conv2d(256, 256, kernel_size=(3, 3), stride=(1, 1), padding=(1, 1), bias=False)\n",
            "      (bn1): BatchNorm2d(256, eps=1e-05, momentum=0.1, affine=True, track_running_stats=True)\n",
            "      (relu): ReLU(inplace=True)\n",
            "      (conv2): Conv2d(256, 256, kernel_size=(3, 3), stride=(1, 1), padding=(1, 1), bias=False)\n",
            "      (bn2): BatchNorm2d(256, eps=1e-05, momentum=0.1, affine=True, track_running_stats=True)\n",
            "    )\n",
            "    (2): BasicBlock(\n",
            "      (conv1): Conv2d(256, 256, kernel_size=(3, 3), stride=(1, 1), padding=(1, 1), bias=False)\n",
            "      (bn1): BatchNorm2d(256, eps=1e-05, momentum=0.1, affine=True, track_running_stats=True)\n",
            "      (relu): ReLU(inplace=True)\n",
            "      (conv2): Conv2d(256, 256, kernel_size=(3, 3), stride=(1, 1), padding=(1, 1), bias=False)\n",
            "      (bn2): BatchNorm2d(256, eps=1e-05, momentum=0.1, affine=True, track_running_stats=True)\n",
            "    )\n",
            "    (3): BasicBlock(\n",
            "      (conv1): Conv2d(256, 256, kernel_size=(3, 3), stride=(1, 1), padding=(1, 1), bias=False)\n",
            "      (bn1): BatchNorm2d(256, eps=1e-05, momentum=0.1, affine=True, track_running_stats=True)\n",
            "      (relu): ReLU(inplace=True)\n",
            "      (conv2): Conv2d(256, 256, kernel_size=(3, 3), stride=(1, 1), padding=(1, 1), bias=False)\n",
            "      (bn2): BatchNorm2d(256, eps=1e-05, momentum=0.1, affine=True, track_running_stats=True)\n",
            "    )\n",
            "    (4): BasicBlock(\n",
            "      (conv1): Conv2d(256, 256, kernel_size=(3, 3), stride=(1, 1), padding=(1, 1), bias=False)\n",
            "      (bn1): BatchNorm2d(256, eps=1e-05, momentum=0.1, affine=True, track_running_stats=True)\n",
            "      (relu): ReLU(inplace=True)\n",
            "      (conv2): Conv2d(256, 256, kernel_size=(3, 3), stride=(1, 1), padding=(1, 1), bias=False)\n",
            "      (bn2): BatchNorm2d(256, eps=1e-05, momentum=0.1, affine=True, track_running_stats=True)\n",
            "    )\n",
            "    (5): BasicBlock(\n",
            "      (conv1): Conv2d(256, 256, kernel_size=(3, 3), stride=(1, 1), padding=(1, 1), bias=False)\n",
            "      (bn1): BatchNorm2d(256, eps=1e-05, momentum=0.1, affine=True, track_running_stats=True)\n",
            "      (relu): ReLU(inplace=True)\n",
            "      (conv2): Conv2d(256, 256, kernel_size=(3, 3), stride=(1, 1), padding=(1, 1), bias=False)\n",
            "      (bn2): BatchNorm2d(256, eps=1e-05, momentum=0.1, affine=True, track_running_stats=True)\n",
            "    )\n",
            "  )\n",
            "  (layer4): Sequential(\n",
            "    (0): BasicBlock(\n",
            "      (conv1): Conv2d(256, 512, kernel_size=(3, 3), stride=(2, 2), padding=(1, 1), bias=False)\n",
            "      (bn1): BatchNorm2d(512, eps=1e-05, momentum=0.1, affine=True, track_running_stats=True)\n",
            "      (relu): ReLU(inplace=True)\n",
            "      (conv2): Conv2d(512, 512, kernel_size=(3, 3), stride=(1, 1), padding=(1, 1), bias=False)\n",
            "      (bn2): BatchNorm2d(512, eps=1e-05, momentum=0.1, affine=True, track_running_stats=True)\n",
            "      (downsample): Sequential(\n",
            "        (0): Conv2d(256, 512, kernel_size=(1, 1), stride=(2, 2), bias=False)\n",
            "        (1): BatchNorm2d(512, eps=1e-05, momentum=0.1, affine=True, track_running_stats=True)\n",
            "      )\n",
            "    )\n",
            "    (1): BasicBlock(\n",
            "      (conv1): Conv2d(512, 512, kernel_size=(3, 3), stride=(1, 1), padding=(1, 1), bias=False)\n",
            "      (bn1): BatchNorm2d(512, eps=1e-05, momentum=0.1, affine=True, track_running_stats=True)\n",
            "      (relu): ReLU(inplace=True)\n",
            "      (conv2): Conv2d(512, 512, kernel_size=(3, 3), stride=(1, 1), padding=(1, 1), bias=False)\n",
            "      (bn2): BatchNorm2d(512, eps=1e-05, momentum=0.1, affine=True, track_running_stats=True)\n",
            "    )\n",
            "    (2): BasicBlock(\n",
            "      (conv1): Conv2d(512, 512, kernel_size=(3, 3), stride=(1, 1), padding=(1, 1), bias=False)\n",
            "      (bn1): BatchNorm2d(512, eps=1e-05, momentum=0.1, affine=True, track_running_stats=True)\n",
            "      (relu): ReLU(inplace=True)\n",
            "      (conv2): Conv2d(512, 512, kernel_size=(3, 3), stride=(1, 1), padding=(1, 1), bias=False)\n",
            "      (bn2): BatchNorm2d(512, eps=1e-05, momentum=0.1, affine=True, track_running_stats=True)\n",
            "    )\n",
            "  )\n",
            "  (avgpool): AdaptiveAvgPool2d(output_size=(1, 1))\n",
            "  (fc): Linear(in_features=512, out_features=200, bias=True)\n",
            ")\n"
          ]
        }
      ]
    },
    {
      "cell_type": "code",
      "source": [
        "# loading evaluation data\n",
        "with open('/content/drive/My Drive/Colab Notebooks/attack/pickle/tinyimagenet/resnet34/eval.p', 'rb') as f:\n",
        "    eval_dataset = pickle.load(f)\n",
        "\n",
        "# prepare the data for the evaluation\n",
        "eval_images = [item[0] for item in eval_dataset]\n",
        "eval_labels = [item[1] for item in eval_dataset]\n",
        "eval_membership_status = [item[2] for item in eval_dataset]\n",
        "\n",
        "eval_images_tensor = torch.stack(eval_images)\n",
        "eval_labels_tensor = torch.tensor(eval_labels)\n",
        "eval_dataset_tensor = TensorDataset(eval_images_tensor, eval_labels_tensor)\n",
        "eval_loader = DataLoader(eval_dataset_tensor, batch_size=64, shuffle=False, num_workers=2)\n"
      ],
      "metadata": {
        "id": "IpdUYmbzBghK"
      },
      "execution_count": 11,
      "outputs": []
    },
    {
      "cell_type": "code",
      "source": [
        "#  Generate evaluation data for attack model using target model\n",
        "target_model.eval()\n",
        "probabilities = []\n",
        "with torch.no_grad():\n",
        "    for inputs, _ in eval_loader:\n",
        "        inputs = inputs.to(device)\n",
        "        outputs = target_model(inputs)\n",
        "        probs = torch.softmax(outputs, dim=1)\n",
        "        probabilities.extend(probs.cpu().numpy())\n",
        "\n",
        "X_eval = np.array(probabilities)\n",
        "y_eval_true = np.array(eval_membership_status)"
      ],
      "metadata": {
        "id": "lIzeKMwq1S-P"
      },
      "execution_count": 12,
      "outputs": []
    },
    {
      "cell_type": "code",
      "source": [
        "# evaluate the attack model\n",
        "attack_model_nn.eval()\n",
        "with torch.no_grad():\n",
        "    outputs = attack_model_nn(torch.tensor(X_eval, dtype=torch.float32).to(device))\n",
        "    y_pred = outputs.round().view(-1).cpu().numpy()\n",
        "    accuracy = accuracy_score(y_eval_true, y_pred)\n",
        "    print(f\"Membership Inference Accuracy: {accuracy}\")"
      ],
      "metadata": {
        "id": "gZ_LHCU_BqUG",
        "colab": {
          "base_uri": "https://localhost:8080/"
        },
        "outputId": "6647c6d1-1370-4386-957e-c471375a56f9"
      },
      "execution_count": null,
      "outputs": [
        {
          "output_type": "stream",
          "name": "stdout",
          "text": [
            "Membership Inference Accuracy: 0.995\n"
          ]
        }
      ]
    },
    {
      "cell_type": "code",
      "source": [
        "# save attack model\n",
        "torch.save(attack_model_nn.state_dict(), f\"/content/drive/My Drive/Colab Notebooks/attack/attack_models/tinyimagenet_resnet/attack_model_99.pt\")"
      ],
      "metadata": {
        "id": "kAraKd9_1-d4"
      },
      "execution_count": 14,
      "outputs": []
    }
  ]
}